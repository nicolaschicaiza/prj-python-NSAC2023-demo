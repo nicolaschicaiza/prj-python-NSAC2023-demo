{
 "cells": [
  {
   "cell_type": "code",
   "execution_count": null,
   "id": "bdcb91e8-d1d3-4bec-b401-5782b7f55477",
   "metadata": {},
   "outputs": [],
   "source": [
    "# Este es un ejemplo de un cuaderno Jupyter interactivo\n",
    "\n",
    "# Solicita al usuario que ingrese dos números\n",
    "numero1 = float(input(\"Por favor, ingrese el primer número: \"))\n",
    "numero2 = float(input(\"Ahora, ingrese el segundo número: \"))\n",
    "\n",
    "# Realiza la suma de los números ingresados\n",
    "suma = numero1 + numero2\n",
    "\n",
    "# Muestra el resultado\n",
    "print(f\"La suma de {numero1} y {numero2} es igual a {suma}\")\n"
   ]
  }
 ],
 "metadata": {
  "kernelspec": {
   "display_name": "Python 3 (ipykernel)",
   "language": "python",
   "name": "python3"
  },
  "language_info": {
   "codemirror_mode": {
    "name": "ipython",
    "version": 3
   },
   "file_extension": ".py",
   "mimetype": "text/x-python",
   "name": "python",
   "nbconvert_exporter": "python",
   "pygments_lexer": "ipython3",
   "version": "3.11.4"
  }
 },
 "nbformat": 4,
 "nbformat_minor": 5
}
