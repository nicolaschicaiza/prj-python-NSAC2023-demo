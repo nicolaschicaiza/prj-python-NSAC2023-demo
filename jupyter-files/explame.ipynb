{
  "cells": [
    {
      "cell_type": "code",
      "execution_count": null,
      "id": "bdcb91e8-d1d3-4bec-b401-5782b7f55477",
      "metadata": {},
      "outputs": [],
      "source": [
        "# Muestra el resultado\n",
        "print(\"hola mundo\")\n"
      ]
    }
  ],
  "metadata": {
    "kernelspec": {
      "display_name": "Python 3 (ipykernel)",
      "language": "python",
      "name": "python3"
    },
    "language_info": {
      "codemirror_mode": {
        "name": "ipython",
        "version": 3
      },
      "file_extension": ".py",
      "mimetype": "text/x-python",
      "name": "python",
      "nbconvert_exporter": "python",
      "pygments_lexer": "ipython3",
      "version": "3.11.4"
    }
  },
  "nbformat": 4,
  "nbformat_minor": 5
}
